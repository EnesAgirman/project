{
 "cells": [
  {
   "cell_type": "code",
   "execution_count": 35,
   "metadata": {},
   "outputs": [],
   "source": [
    "import numpy as np\n",
    "import matplotlib.pyplot as plt"
   ]
  },
  {
   "cell_type": "code",
   "execution_count": 36,
   "metadata": {},
   "outputs": [],
   "source": [
    "# we have a 6x9 grid of 54 squares\n",
    "# we place a 1 layer thick wall around the outside\n",
    "# each square has 4 values, up, down, left, right\n",
    "# each square \n",
    "\n",
    "# Q values for each square, up, down, left, right for each square\n",
    "maze = np.zeros((6, 9, 4))\n",
    "\n",
    "# expected Q values for each square\n",
    "maze_values = np.zeros((6, 9))\n",
    "\n",
    "# set the reward for the goal\n",
    "maze_values[1, 3] = 1\n",
    "\n",
    "# set the wall\n",
    "maze_values[3, 0:8] = -100"
   ]
  },
  {
   "cell_type": "code",
   "execution_count": 37,
   "metadata": {},
   "outputs": [
    {
     "name": "stdout",
     "output_type": "stream",
     "text": [
      "[[   0.    0.    0.    0.    0.    0.    0.    0.    0.]\n",
      " [   0.    0.    0.    1.    0.    0.    0.    0.    0.]\n",
      " [   0.    0.    0.    0.    0.    0.    0.    0.    0.]\n",
      " [-100. -100. -100. -100. -100. -100. -100. -100.    0.]\n",
      " [   0.    0.    0.    0.    0.    0.    0.    0.    0.]\n",
      " [   0.    0.    0.    0.    0.    0.    0.    0.    0.]]\n"
     ]
    }
   ],
   "source": [
    "print(maze_values)"
   ]
  },
  {
   "cell_type": "code",
   "execution_count": 38,
   "metadata": {},
   "outputs": [],
   "source": [
    "def move(x, y, a, maze, maze_values):\n",
    "    \"\"\" Gives the expected Q value of the next position for moving from the current position by taking action a.\n",
    "    If the action is invalid, the current position is returned with a reward of -100.\n",
    "    Actions are 0 = up, 1 = down, 2 = left, 3 = right.\n",
    "\n",
    "    Args:\n",
    "        x (_type_): the x coordinate of the current position\n",
    "        y (_type_): the y coordinate of the current position\n",
    "        a (_type_): the action to take, 0 = up, 1 = down, 2 = left, 3 = right\n",
    "        maze (_type_): the Q values for each square\n",
    "        maze_values (_type_): the expected Q values for each square\n",
    "    \"\"\"\n",
    "    \n",
    "    if a == 0:\n",
    "        # up\n",
    "        if x == 0:\n",
    "            # can't move up\n",
    "            return x, y, -100\n",
    "        else:\n",
    "            return x - 1, y, maze_values[x - 1, y] + maze[x, y, 0]\n",
    "    elif a == 1:\n",
    "        # down\n",
    "        if x == 5:\n",
    "            # can't move down\n",
    "            return x, y, -100\n",
    "        else:\n",
    "            return x + 1, y, maze_values[x + 1, y]\n",
    "    elif a == 2:\n",
    "        # left\n",
    "        if y == 0:\n",
    "            # can't move left\n",
    "            return x, y, -100\n",
    "        else:\n",
    "            return x, y - 1, maze_values[x, y - 1]\n",
    "    elif a == 3:\n",
    "        # right\n",
    "        if y == 8:\n",
    "            # can't move right\n",
    "            return x, y, -100\n",
    "        else:\n",
    "            return x, y + 1, maze_values[x, y + 1]\n",
    "    else:\n",
    "        print(\"Invalid action, the action a must be 0(up), 1(down), 2(left), or 3(right)\")\n",
    "        raise ValueError(\"Invalid action\")"
   ]
  },
  {
   "cell_type": "code",
   "execution_count": 39,
   "metadata": {},
   "outputs": [],
   "source": [
    "def update_Q(x, y, a, maze, maze_values, learning_rate, discount_factor):\n",
    "    \"\"\" Updates the Q value for the current position and action.\n",
    "\n",
    "    Args:\n",
    "        x (_type_): the x coordinate of the current position\n",
    "        y (_type_): the y coordinate of the current position\n",
    "        a (_type_): the action to take, 0 = up, 1 = down, 2 = left, 3 = right\n",
    "        maze (_type_): the Q values for each square\n",
    "        maze_values (_type_): the expected Q values for each square\n",
    "        learning_rate (_type_): the learning rate\n",
    "        discount_factor (_type_): the discount factor\n",
    "    \"\"\"\n",
    "    # get the next position\n",
    "    x_next, y_next, reward = move(x, y, a, maze, maze_values)\n",
    "\n",
    "    # update the Q value\n",
    "    maze[x, y, a] = (1 - learning_rate) * maze[x, y, a] + learning_rate * (reward + discount_factor * np.max(maze[x_next, y_next, :]))"
   ]
  },
  {
   "cell_type": "code",
   "execution_count": 40,
   "metadata": {},
   "outputs": [
    {
     "name": "stdout",
     "output_type": "stream",
     "text": [
      "0: up, 1: down, 2: left, 3: right\n",
      "[[1. 1. 1. 1. 2. 2. 2. 2. 2.]\n",
      " [3. 3. 3. 0. 2. 2. 2. 2. 2.]\n",
      " [3. 0. 0. 0. 2. 2. 2. 2. 0.]\n",
      " [0. 0. 0. 0. 0. 0. 0. 0. 0.]\n",
      " [3. 3. 3. 3. 3. 3. 3. 3. 0.]\n",
      " [3. 0. 0. 0. 3. 0. 0. 3. 0.]]\n",
      "\n",
      " ------------------------------------ \n",
      "\n",
      "[[   0.    0.    0.    0.    0.    0.    0.    0.    0.]\n",
      " [   0.    0.    0.    1.    0.    0.    0.    0.    0.]\n",
      " [   0.    0.    0.    0.    0.    0.    0.    0.    0.]\n",
      " [-100. -100. -100. -100. -100. -100. -100. -100.    0.]\n",
      " [   0.    0.    0.    0.    0.    0.    0.    0.    0.]\n",
      " [   0.    0.    0.    0.    0.    0.    0.    0.    0.]]\n"
     ]
    }
   ],
   "source": [
    "# set the learning rate\n",
    "learning_rate = 0.1\n",
    "\n",
    "# set the discount factor\n",
    "discount_factor = 0.9\n",
    "\n",
    "# update the Q values for 100 iterations\n",
    "\n",
    "for i in range(100):\n",
    "    # update the Q values for each square\n",
    "    for x in range(6):\n",
    "        for y in range(9):\n",
    "            for a in range(4):\n",
    "                update_Q(x, y, a, maze, maze_values, learning_rate, discount_factor)\n",
    "\n",
    "# set a maze which has the optimum action for each square\n",
    "maze_optimum = np.zeros((6, 9))\n",
    "\n",
    "# set the optimum action for each square\n",
    "for x in range(6):\n",
    "    for y in range(9):\n",
    "        maze_optimum[x, y] = np.argmax(maze[x, y, :])\n",
    "\n",
    "print(f\"0: up, 1: down, 2: left, 3: right\")\n",
    "print(maze_optimum)\n",
    "print(\"\\n ------------------------------------ \\n\")\n",
    "print(maze_values)\n",
    "\n"
   ]
  }
 ],
 "metadata": {
  "kernelspec": {
   "display_name": "Python 3",
   "language": "python",
   "name": "python3"
  },
  "language_info": {
   "codemirror_mode": {
    "name": "ipython",
    "version": 3
   },
   "file_extension": ".py",
   "mimetype": "text/x-python",
   "name": "python",
   "nbconvert_exporter": "python",
   "pygments_lexer": "ipython3",
   "version": "3.11.2"
  }
 },
 "nbformat": 4,
 "nbformat_minor": 2
}

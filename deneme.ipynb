{
 "cells": [
  {
   "cell_type": "code",
   "execution_count": 75,
   "metadata": {},
   "outputs": [],
   "source": [
    "import numpy as np\n",
    "import matplotlib.pyplot as plt"
   ]
  },
  {
   "cell_type": "code",
   "execution_count": 76,
   "metadata": {},
   "outputs": [],
   "source": [
    "# we have a 6x9 grid of 54 squares\n",
    "# we place a 1 layer thick wall around the outside\n",
    "# each square has 4 values, up, down, left, right\n",
    "# 0 = up, 1 = down, 2 = left, 3 = right\n",
    "\n",
    "# Q values for each square, up, down, left, right for each square\n",
    "maze_Q = np.zeros((6, 9, 4))\n",
    "\n",
    "# going out of bounds is a -100 penalty\n",
    "maze_Q[0, :, 0] = -10000000\n",
    "maze_Q[:, 0, 2] = -10000000\n",
    "maze_Q[5, :, 1] = -10000000\n",
    "maze_Q[:, 8, 3] = -10000000\n",
    "\n",
    "# reaching the goal is a 1 reward\n",
    "maze_Q[0, 7, 3] = 1\n",
    "maze_Q[1, 8, 0] = 1\n",
    "\n",
    "initial_maze_Q = maze_Q.copy()\n",
    "\n",
    "# set the maze whene the walls are represented by \"W\" and the goal by \"G\" and the current position by \"*\" and the empty squares by \"0\"\n",
    "maze = [[\"0\", \"0\", \"0\", \"0\", \"0\", \"0\", \"0\", \"0\", \"G\"],\n",
    "        [\"0\", \"0\", \"0\", \"0\", \"0\", \"0\", \"0\", \"0\", \"0\"],\n",
    "        [\"0\", \"0\", \"0\", \"0\", \"0\", \"0\", \"0\", \"0\", \"0\"],\n",
    "        [\"W\", \"W\", \"W\", \"W\", \"W\", \"W\", \"W\", \"W\", \"0\"],\n",
    "        [\"0\", \"0\", \"0\", \"0\", \"0\", \"0\", \"0\", \"0\", \"0\"],\n",
    "        [\"0\", \"0\", \"0\", \"*\", \"0\", \"0\", \"0\", \"0\", \"0\"]]\n",
    "\n",
    "# np.random.seed(29)\n",
    "\n",
    "# going into the walls has -10000 penalty\n",
    "maze_Q[4:8, 0, 0] = -10000000\n",
    "maze_Q[2:8, 0, 1] = -10000000\n",
    "maze_Q[3, 8, 2] = -10000000\n",
    "\n",
    "np.random.seed(1)"
   ]
  },
  {
   "cell_type": "code",
   "execution_count": 77,
   "metadata": {},
   "outputs": [],
   "source": [
    "def max_index(array):\n",
    "    \"\"\" Returns the index of the maximum value of an array. If there are multiple maximum values, a random one is returned.\n",
    "\n",
    "    Args:\n",
    "        array (_type_): the array to find the maximum index of\n",
    "    \"\"\"\n",
    "    max_value = np.max(array)\n",
    "    max_index = np.where(array == max_value)[0]\n",
    "    return np.random.choice(max_index)"
   ]
  },
  {
   "cell_type": "code",
   "execution_count": 78,
   "metadata": {},
   "outputs": [],
   "source": [
    "def move(x, y, a, maze_Q):\n",
    "    \"\"\" Gives the expected Q value of the next position for moving from the current position by taking action a.\n",
    "    If the action is invalid, the current position is returned with a reward of -100.\n",
    "    Actions are 0 = up, 1 = down, 2 = left, 3 = right.\n",
    "\n",
    "    Args:\n",
    "        x (_type_): the x coordinate of the current position\n",
    "        y (_type_): the y coordinate of the current position\n",
    "        a (_type_): the action to take, 0 = up, 1 = down, 2 = left, 3 = right\n",
    "        maze_Q (_type_): the Q values for each square\n",
    "    \"\"\"\n",
    "    \n",
    "    # if the action makes the agent go out of bounds, return the current position with a reward of -10000\n",
    "    # if the action makes the agent go into a wall, return the current position with a reward of -10000\n",
    "    \n",
    "    if a == 0:\n",
    "        if x == 0:\n",
    "            return x, y, -10000\n",
    "        elif maze[x-1][y] == \"W\":\n",
    "            return x, y, -10000\n",
    "        else:\n",
    "            return x-1, y, maze_Q[x, y, a]\n",
    "    elif a == 1:\n",
    "        if x == 5:\n",
    "            return x, y, -10000\n",
    "        elif maze[x+1][y] == \"W\":\n",
    "            return x, y, -10000\n",
    "        else:\n",
    "            return x+1, y, maze_Q[x, y, a]\n",
    "    elif a == 2:\n",
    "        if y == 0:\n",
    "            return x, y, -10000\n",
    "        elif maze[x][y-1] == \"W\":\n",
    "            return x, y, -10000\n",
    "        else:\n",
    "            return x, y-1, maze_Q[x, y, a]\n",
    "    elif a == 3:\n",
    "        if y == 8:\n",
    "            return x, y, -10000\n",
    "        elif maze[x][y+1] == \"W\":\n",
    "            return x, y, -10000\n",
    "        else:\n",
    "            return x, y+1, maze_Q[x, y, a]\n",
    "    else:\n",
    "        print(\"Invalid action, the action a must be 0(up), 1(down), 2(left), or 3(right)\")\n",
    "        raise ValueError(\"Invalid action\")"
   ]
  },
  {
   "cell_type": "code",
   "execution_count": 79,
   "metadata": {},
   "outputs": [],
   "source": [
    "def update_Q(x, y, a, maze_Q, learning_rate, discount_factor):\n",
    "    \"\"\" Updates the Q value for the current position and action.\n",
    "\n",
    "    Args:\n",
    "        x (_type_): the x coordinate of the current position\n",
    "        y (_type_): the y coordinate of the current position\n",
    "        a (_type_): the action to take, 0 = up, 1 = down, 2 = left, 3 = right\n",
    "        maze_Q (_type_): the Q values for each square\n",
    "        learning_rate (_type_): the learning rate\n",
    "        discount_factor (_type_): the discount factor\n",
    "    \"\"\"\n",
    "    # get the next position\n",
    "    x_next, y_next, reward = move(x, y, a, maze_Q)\n",
    "\n",
    "    # update the Q value\n",
    "    maze_Q[x, y, a] = (1 - learning_rate) * maze_Q[x, y, a] + learning_rate * (reward + discount_factor * np.max(maze_Q[x_next, y_next, :]))\n",
    "    \n",
    "    return x_next, y_next"
   ]
  },
  {
   "cell_type": "code",
   "execution_count": 80,
   "metadata": {},
   "outputs": [
    {
     "name": "stdout",
     "output_type": "stream",
     "text": [
      "the total reward is 221.41907360726998\n",
      "\n",
      "0.00000 0.00000 0.00000 0.00000 0.00000 0.00000 0.00000 1.00000 0.00000 \n",
      "0.00000 0.00000 0.00000 0.00000 0.00000 0.00000 0.00000 0.00000 1.00000 \n",
      "0.00000 0.00000 0.00000 0.00000 0.00000 0.00000 0.00000 0.00000 0.18180 \n",
      "0.00000 0.00000 0.00000 0.00000 0.00000 0.00000 0.00000 0.00000 0.01644 \n",
      "0.00000 0.00000 0.00000 0.00000 0.00000 0.00000 0.00000 0.00000 0.00100 \n",
      "0.00000 0.00000 0.00000 0.00000 0.00000 0.00000 0.00000 0.00000 0.00005 \n"
     ]
    }
   ],
   "source": [
    "# set the learning rate\n",
    "learning_rate = 0.001\n",
    "\n",
    "# set the discount factor\n",
    "discount_factor = 0.9\n",
    "\n",
    "time_steps = 3000\n",
    "\n",
    "total_reward = 0\n",
    "\n",
    "cumulative_reward = []\n",
    "\n",
    "x, y = [5, 3]\n",
    "\n",
    "for t in range(time_steps):\n",
    "\n",
    "    a = max_index(maze_Q[x, y, :])\n",
    "    \n",
    "    total_reward += maze_Q[x, y, a]\n",
    "    \n",
    "    cumulative_reward.append(total_reward)\n",
    "\n",
    "    if x == 0 and y == 7:\n",
    "        x, y = [5, 3]\n",
    "    elif x == 1 and y == 8:\n",
    "        x, y = [5, 3]\n",
    "    else:\n",
    "        x, y = update_Q(x, y, a, maze_Q, learning_rate, discount_factor)\n",
    "    \n",
    "print(f\"the total reward is {total_reward}\\n\")\n",
    "\n",
    "# print an array which shows the maximum Q value for each square with 2 decimal places\n",
    "for i in range(6):\n",
    "    for j in range(9):\n",
    "        print(f\"{np.max(maze_Q[i, j, :]):.5f}\", end=\" \")\n",
    "    print()\n",
    "\n"
   ]
  },
  {
   "cell_type": "code",
   "execution_count": 81,
   "metadata": {},
   "outputs": [
    {
     "data": {
      "image/png": "[encoded data removed]",
      "text/plain": [
       "<Figure size 640x480 with 1 Axes>"
      ]
     },
     "metadata": {},
     "output_type": "display_data"
    }
   ],
   "source": [
    "# plot the cumulative reward\n",
    "plt.plot(cumulative_reward)\n",
    "plt.xlabel(\"time step\")\n",
    "plt.ylabel(\"cumulative reward\")\n",
    "plt.show()"
   ]
  }
 ],
 "metadata": {
  "kernelspec": {
   "display_name": "Python 3",
   "language": "python",
   "name": "python3"
  },
  "language_info": {
   "codemirror_mode": {
    "name": "ipython",
    "version": 3
   },
   "file_extension": ".py",
   "mimetype": "text/x-python",
   "name": "python",
   "nbconvert_exporter": "python",
   "pygments_lexer": "ipython3",
   "version": "3.11.2"
  }
 },
 "nbformat": 4,
 "nbformat_minor": 2
}
